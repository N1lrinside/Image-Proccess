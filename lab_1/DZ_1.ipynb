{
 "cells": [
  {
   "cell_type": "code",
   "execution_count": null,
   "id": "initial_id",
   "metadata": {
    "collapsed": true
   },
   "outputs": [],
   "source": [
    "import cv2\n",
    "import matplotlib\n",
    "import numpy as np\n",
    "matplotlib.use(\"TkAgg\")\n",
    "import matplotlib.pyplot as plt\n",
    "from skimage.metrics import mean_squared_error, structural_similarity as ssim"
   ]
  },
  {
   "metadata": {},
   "cell_type": "code",
   "outputs": [],
   "execution_count": null,
   "source": [
    "# 1. Загрузка изображения\n",
    "img = cv2.imread(\"sar_1_gray.jpg\", cv2.IMREAD_GRAYSCALE)\n",
    "plt.imshow(img, cmap=\"gray\")\n",
    "plt.title(\"Исходное изображение\")\n",
    "plt.axis(\"off\")\n",
    "plt.show()"
   ],
   "id": "cc53110e4b0c9679"
  },
  {
   "metadata": {},
   "cell_type": "markdown",
   "source": "![Изображение](Figure_1.png)",
   "id": "ebe7effc80131f7a"
  },
  {
   "metadata": {},
   "cell_type": "code",
   "outputs": [],
   "execution_count": null,
   "source": [
    "# 2. Построение гистограммы\n",
    "plt.figure()\n",
    "plt.title(\"Гистограмма исходного изображения\")\n",
    "plt.hist(img.ravel(), 256, [0, 256])\n",
    "plt.xlabel(\"Яркость\")\n",
    "plt.ylabel(\"Количество пикселей\")\n",
    "plt.show()"
   ],
   "id": "7eac1d893af08c4"
  },
  {
   "metadata": {},
   "cell_type": "markdown",
   "source": "![Изображение](Figure_2.png)",
   "id": "e5a6961de279969d"
  },
  {
   "metadata": {},
   "cell_type": "code",
   "outputs": [],
   "execution_count": null,
   "source": [
    "# Кумулятивная гистограмма \n",
    "b_hist, bins = np.histogram(img.flatten(), 256, [0, 256])\n",
    "b_hist_cum = b_hist.cumsum()\n",
    "plt.figure()\n",
    "plt.title(\"Кумулятивная гистограмма (CDF)\")\n",
    "plt.plot(b_hist_cum, color='red')\n",
    "plt.xlabel(\"Яркость\")\n",
    "plt.ylabel(\"Накопленное количество пикселей\")\n",
    "plt.show()"
   ],
   "id": "b8c616c03207bfb1"
  },
  {
   "metadata": {},
   "cell_type": "markdown",
   "source": "![Изображение](Figure_2_1.png)",
   "id": "8f002ee7bc3984fd"
  },
  {
   "metadata": {},
   "cell_type": "code",
   "outputs": [],
   "execution_count": null,
   "source": [
    "# Нормированная гистограмма\n",
    "b_hist_norm = b_hist / (img.shape[0] * img.shape[1])\n",
    "plt.figure()\n",
    "plt.title(\"Нормированная гистограмма (PDF)\")\n",
    "plt.plot(b_hist_norm, color='blue')\n",
    "plt.xlabel(\"Яркость\")\n",
    "plt.ylabel(\"Вероятность\")\n",
    "plt.show()"
   ],
   "id": "1fc3da4c4d91c9c1"
  },
  {
   "metadata": {},
   "cell_type": "markdown",
   "source": "![Изображение](Figure_2_2.png)",
   "id": "933f76a81e785818"
  },
  {
   "metadata": {},
   "cell_type": "code",
   "outputs": [],
   "execution_count": null,
   "source": [
    "# 3. Гамма-коррекция\n",
    "\n",
    "# gamma < 1\n",
    "gamma_low = 0.5\n",
    "inv_gamma_low = 1.0 / gamma_low\n",
    "table_low = np.array([(i / 255.0) ** inv_gamma_low * 255 for i in np.arange(256)]).astype(\"uint8\")\n",
    "gamma_img_low = cv2.LUT(img, table_low)\n",
    "\n",
    "# gamma > 1\n",
    "gamma_high = 1.5\n",
    "inv_gamma_high = 1.0 / gamma_high\n",
    "table_high = np.array([(i / 255.0) ** inv_gamma_high * 255 for i in np.arange(256)]).astype(\"uint8\")\n",
    "gamma_img_high = cv2.LUT(img, table_high)\n",
    "\n",
    "# визуализация\n",
    "plt.figure(figsize=(12, 4))\n",
    "plt.subplot(1, 3, 1)\n",
    "plt.title(\"Исходное\")\n",
    "plt.imshow(img, cmap=\"gray\")\n",
    "plt.axis(\"off\")\n",
    "\n",
    "plt.subplot(1, 3, 2)\n",
    "plt.title(\"Gamma < 1\")\n",
    "plt.imshow(gamma_img_low, cmap=\"gray\")\n",
    "plt.axis(\"off\")\n",
    "\n",
    "plt.subplot(1, 3, 3)\n",
    "plt.title(\"Gamma > 1\")\n",
    "plt.imshow(gamma_img_high, cmap=\"gray\")\n",
    "plt.axis(\"off\")\n",
    "plt.show()"
   ],
   "id": "173a1d2c02a561a0"
  },
  {
   "metadata": {},
   "cell_type": "markdown",
   "source": "![Изображение](Figure_3.png)",
   "id": "68d1854910b0690d"
  },
  {
   "metadata": {},
   "cell_type": "code",
   "outputs": [],
   "execution_count": null,
   "source": [
    "# 4. Сравнение изображений\n",
    "mse_low = mean_squared_error(img, gamma_img_low)\n",
    "ssim_low = ssim(img, gamma_img_low)\n",
    "\n",
    "mse_high = mean_squared_error(img, gamma_img_high)\n",
    "ssim_high = ssim(img, gamma_img_high)\n",
    "\n",
    "print(f\"[Gamma < 1] MSE: {mse_low:.4f}, SSIM: {ssim_low:.4f}\")\n",
    "print(f\"[Gamma > 1] MSE: {mse_high:.4f}, SSIM: {ssim_high:.4f}\")"
   ],
   "id": "3dca6314376250ad"
  },
  {
   "metadata": {},
   "cell_type": "markdown",
   "source": [
    "[Gamma < 1] MSE: 2383.7636, SSIM: 0.5270 \n",
    "\n",
    "[Gamma > 1] MSE: 1114.4519, SSIM: 0.8940"
   ],
   "id": "42393882ae97273f"
  },
  {
   "metadata": {},
   "cell_type": "code",
   "outputs": [],
   "execution_count": null,
   "source": [
    "# 5. Статистическая цветокоррекция на основе эталона eq_gray.jpg\n",
    "image = cv2.imread(\"sar_1_gray.jpg\")\n",
    "image_gray = cv2.cvtColor(image, cv2.COLOR_BGR2GRAY) \n",
    "\n",
    "# eq gray\n",
    "eq_gray = cv2.equalizeHist(image_gray)\n",
    "\n",
    "# Строим статистическую коррекцию\n",
    "src_hist, _ = np.histogram(image_gray.flatten(), 256, [0, 256])\n",
    "ref_hist, _ = np.histogram(eq_gray.flatten(), 256, [0, 256])\n",
    "\n",
    "src_cdf = src_hist.cumsum() / src_hist.sum()\n",
    "ref_cdf = ref_hist.cumsum() / ref_hist.sum()\n",
    "\n",
    "mapping = np.interp(src_cdf, ref_cdf, np.arange(256))\n",
    "matched = cv2.LUT(image_gray, mapping.astype('uint8'))\n",
    "\n",
    "# Визуализация\n",
    "plt.figure(figsize=(10, 4))\n",
    "plt.subplot(1, 3, 1)\n",
    "plt.title(\"Исходное\")\n",
    "plt.imshow(image_gray, cmap=\"gray\")\n",
    "plt.axis(\"off\")\n",
    "\n",
    "plt.subplot(1, 3, 2)\n",
    "plt.title(\"eq gray\")\n",
    "plt.imshow(eq_gray, cmap=\"gray\")\n",
    "plt.axis(\"off\")\n",
    "\n",
    "plt.subplot(1, 3, 3)\n",
    "plt.title(\"После цветокоррекции\")\n",
    "plt.imshow(matched, cmap=\"gray\")\n",
    "plt.axis(\"off\")\n",
    "plt.tight_layout()\n",
    "plt.show()"
   ],
   "id": "8db3cbdf7f149fbb"
  },
  {
   "metadata": {},
   "cell_type": "markdown",
   "source": "![Изображение](Figure_5.png)",
   "id": "72d0f73ef8a64501"
  },
  {
   "metadata": {},
   "cell_type": "code",
   "outputs": [],
   "execution_count": null,
   "source": [
    "# 6. Тест пороговой фильтрации\n",
    "thresholds = [\n",
    "    (\"BINARY\", cv2.THRESH_BINARY),\n",
    "    (\"BINARY_INV\", cv2.THRESH_BINARY_INV),\n",
    "    (\"TRUNC\", cv2.THRESH_TRUNC),\n",
    "    (\"TOZERO\", cv2.THRESH_TOZERO),\n",
    "    (\"TOZERO_INV\", cv2.THRESH_TOZERO_INV),\n",
    "]\n",
    "\n",
    "plt.figure(figsize=(10, 6))\n",
    "for i, (name, t_type) in enumerate(thresholds, start=1):\n",
    "    _, th = cv2.threshold(img, 127, 255, t_type)\n",
    "    plt.subplot(2, 3, i)\n",
    "    plt.imshow(th, cmap=\"gray\")\n",
    "    plt.title(name)\n",
    "    plt.axis(\"off\")\n",
    "\n",
    "plt.tight_layout()\n",
    "plt.show()"
   ],
   "id": "67fb82ba38369134"
  },
  {
   "metadata": {},
   "cell_type": "markdown",
   "source": "![Изображение](Figure_6.png)",
   "id": "8ee40e65fb2b1df8"
  }
 ],
 "metadata": {
  "kernelspec": {
   "display_name": "Python 3",
   "language": "python",
   "name": "python3"
  },
  "language_info": {
   "codemirror_mode": {
    "name": "ipython",
    "version": 2
   },
   "file_extension": ".py",
   "mimetype": "text/x-python",
   "name": "python",
   "nbconvert_exporter": "python",
   "pygments_lexer": "ipython2",
   "version": "2.7.6"
  }
 },
 "nbformat": 4,
 "nbformat_minor": 5
}
