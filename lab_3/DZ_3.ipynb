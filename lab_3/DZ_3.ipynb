{
 "cells": [
  {
   "cell_type": "code",
   "execution_count": null,
   "id": "initial_id",
   "metadata": {
    "collapsed": true
   },
   "outputs": [],
   "source": [
    "import cv2\n",
    "import matplotlib\n",
    "import numpy as np\n",
    "matplotlib.use(\"TkAgg\")\n",
    "import matplotlib.pyplot as plt\n",
    "\n",
    "image_gray = cv2.imread(\"sar_3.jpg\", cv2.IMREAD_GRAYSCALE)\n"
   ]
  },
  {
   "metadata": {},
   "cell_type": "markdown",
   "source": "![Изображение](Figure_1.png)",
   "id": "9c5ec19c6daec2e"
  },
  {
   "metadata": {},
   "cell_type": "code",
   "outputs": [],
   "execution_count": null,
   "source": [
    "import copy\n",
    "import math\n",
    "\n",
    "# 1. Для изображения sar_3.jpg найти наиболее протяжённый участок\n",
    "# (выделить линии при помощи преобразования Хафа)\n",
    "bin_img = copy.deepcopy(image_gray)\n",
    "threshold_value = 80\n",
    "bin_img[image_gray < threshold_value] = 0\n",
    "bin_img[image_gray >= threshold_value] = 255\n",
    "canny = cv2.Canny(bin_img, 0, 250, apertureSize=3)\n",
    "lines = cv2.HoughLines(canny, 1, np.pi / 180, 110)\n",
    "\n",
    "if lines is not None:\n",
    "    for i in range(0, len(lines)):\n",
    "        rho = lines[i][0][0]\n",
    "        theta = lines[i][0][1]\n",
    "        a = math.cos(theta)\n",
    "        b = math.sin(theta)\n",
    "        x0 = a * rho\n",
    "        y0 = b * rho\n",
    "        pt1 = (int(x0 + 1000 * (-b)), int(y0 + 1000 * (a)))\n",
    "        pt2 = (int(x0 - 1000 * (-b)), int(y0 - 1000 * (a)))\n",
    "        cv2.line(image_gray, pt1, pt2, (255, 0, 0), 2, cv2.LINE_AA)\n",
    "\n",
    "plt.figure(figsize=(6, 6))\n",
    "plt.title(\"Преобразование Хафа — выделение линий\")\n",
    "plt.imshow(cv2.cvtColor(image_gray, cv2.COLOR_BGR2RGB))\n",
    "plt.axis('off')\n",
    "plt.show()"
   ],
   "id": "b6f671b7e2b7b5a1"
  },
  {
   "metadata": {},
   "cell_type": "markdown",
   "source": "Самая длинная линия: (np.int32(2), np.int32(3), np.int32(223), np.int32(224)), длина = 312.54 px",
   "id": "c376807c497eec1"
  },
  {
   "metadata": {},
   "cell_type": "markdown",
   "source": "![Изображение](Figure_2.png)",
   "id": "45f5685e32386500"
  },
  {
   "metadata": {},
   "cell_type": "code",
   "outputs": [],
   "execution_count": null,
   "source": [
    "# 2. Для изображения sar_3.jpg провести исследование алгоритмов бинаризации,\n",
    "# выделить участок дорожной полосы\n",
    "\n",
    "img = cv2.imread(\"sar_3.jpg\", cv2.IMREAD_GRAYSCALE)\n",
    "\n",
    "# Простая бинаризация \n",
    "T = 80\n",
    "bin_simple = np.zeros_like(img)\n",
    "bin_simple[img < T] = 0\n",
    "bin_simple[img >= T] = 255\n",
    "\n",
    "# Бинаризация Отсу \n",
    "_, bin_otsu = cv2.threshold(img, 0, 255, cv2.THRESH_BINARY + cv2.THRESH_OTSU)\n",
    "\n",
    "# Адаптивная бинаризация\n",
    "bin_adapt = cv2.adaptiveThreshold(img, 255,\n",
    "                                  cv2.ADAPTIVE_THRESH_GAUSSIAN_C,\n",
    "                                  cv2.THRESH_BINARY, 71, 21)\n",
    "\n",
    "plt.figure(figsize=(12, 4))\n",
    "plt.subplot(1, 3, 1)\n",
    "plt.title(\"Точечная бинаризация\")\n",
    "plt.imshow(bin_simple, cmap=\"gray\")\n",
    "plt.axis(\"off\")\n",
    "\n",
    "plt.subplot(1, 3, 2)\n",
    "plt.title(\"Бинаризация Отсу\")\n",
    "plt.imshow(bin_otsu, cmap=\"gray\")\n",
    "plt.axis(\"off\")\n",
    "\n",
    "plt.subplot(1, 3, 3)\n",
    "plt.title(\"Адаптивная бинаризация\")\n",
    "plt.imshow(bin_adapt, cmap=\"gray\")\n",
    "plt.axis(\"off\")\n",
    "\n",
    "plt.suptitle(\"Сравнение методов бинаризации для sar_3.jpg\", fontsize=14)\n",
    "plt.tight_layout()\n",
    "plt.show()\n"
   ],
   "id": "1396950acc6f4a1d"
  },
  {
   "metadata": {},
   "cell_type": "markdown",
   "source": [
    "![Изображение](Figure_3.png)\n",
    "Лучший результат показывает адаптивная бинаризация"
   ],
   "id": "15efd86714fd612d"
  },
  {
   "metadata": {},
   "cell_type": "code",
   "outputs": [],
   "execution_count": null,
   "source": [
    "scale = 1\n",
    "delta = 0\n",
    "ddepth = cv2.CV_16S\n",
    "\n",
    "grad_x = cv2.Sobel(img, ddepth, 1, 0, ksize=3, scale=scale, delta=delta, borderType=cv2.BORDER_DEFAULT)\n",
    "grad_y = cv2.Sobel(img, ddepth, 0, 1, ksize=3, scale=scale, delta=delta, borderType=cv2.BORDER_DEFAULT)\n",
    "\n",
    "abs_grad_x = cv2.convertScaleAbs(grad_x)\n",
    "abs_grad_y = cv2.convertScaleAbs(grad_y)\n",
    "\n",
    "grad = cv2.addWeighted(abs_grad_x, 0.5, abs_grad_y, 0.5, 0)\n",
    "\n",
    "plt.figure(figsize=(12, 4))\n",
    "plt.subplot(1, 3, 1)\n",
    "plt.title(\"Градиент X (Собель)\")\n",
    "plt.imshow(abs_grad_x, cmap=\"gray\")\n",
    "plt.axis(\"off\")\n",
    "\n",
    "plt.subplot(1, 3, 2)\n",
    "plt.title(\"Градиент Y (Собель)\")\n",
    "plt.imshow(abs_grad_y, cmap=\"gray\")\n",
    "plt.axis(\"off\")\n",
    "\n",
    "plt.subplot(1, 3, 3)\n",
    "plt.title(\"Общий градиент\")\n",
    "plt.imshow(grad, cmap=\"gray\")\n",
    "plt.axis(\"off\")\n",
    "\n",
    "plt.suptitle(\"Оператор Собеля — градиенты по осям\", fontsize=14)\n",
    "plt.tight_layout()\n",
    "plt.show()"
   ],
   "id": "37de6b46c38da80"
  },
  {
   "metadata": {},
   "cell_type": "markdown",
   "source": "![Изображение](Figure_4.png)",
   "id": "f0363f4e3e6ac64b"
  }
 ],
 "metadata": {
  "kernelspec": {
   "display_name": "Python 3",
   "language": "python",
   "name": "python3"
  },
  "language_info": {
   "codemirror_mode": {
    "name": "ipython",
    "version": 2
   },
   "file_extension": ".py",
   "mimetype": "text/x-python",
   "name": "python",
   "nbconvert_exporter": "python",
   "pygments_lexer": "ipython2",
   "version": "2.7.6"
  }
 },
 "nbformat": 4,
 "nbformat_minor": 5
}
